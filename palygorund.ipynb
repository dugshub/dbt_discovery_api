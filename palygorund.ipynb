{
 "cells": [
  {
   "cell_type": "code",
   "execution_count": null,
   "metadata": {},
   "outputs": [],
   "source": [
    "from src.discovery_api.api import DiscoveryAPI\n",
    "import os\n",
    "from typing import List, Dict\n",
    "\n",
    "\n",
    "api = DiscoveryAPI(token=os.environ.get(\"DBT_SERVICE_TOKEN\"),return_query=True)"
   ]
  },
  {
   "cell_type": "code",
   "execution_count": null,
   "metadata": {},
   "outputs": [],
   "source": [
    "accounting = api.projects.get('spothero_accounting')\n",
    "parking = api.projects.get('spothero_parking')\n",
    "sandbox = api.projects.get('analytics_sandbox')\n",
    "metrics = api.projects.get('analytics_metrics')\n",
    "\n",
    "# runtimes = metrics.get_models_with_runtime()\n",
    "# runtimes"
   ]
  },
  {
   "cell_type": "code",
   "execution_count": null,
   "metadata": {},
   "outputs": [],
   "source": [
    "metric_models = metrics.get_models_with_runtime()\n",
    "#metric_models[0].runtime_metrics.execution_info"
   ]
  },
  {
   "cell_type": "code",
   "execution_count": null,
   "metadata": {},
   "outputs": [],
   "source": [
    "def get_models_with_runtime(project: 'Project') -> List[dict]:\n",
    "    models = project.get_models_with_runtime(descending=True, limit=10)\n",
    "    # Create a list of dictionaries with execution_time and unique_id\n",
    "    return [{\"execution_time\": model.execution_time, \"unique_id\": model.unique_id} for model in models]\n",
    "\n",
    "all_runtimes = []\n",
    "for project in [accounting, parking, sandbox, metrics]:\n",
    "    all_runtimes.extend(get_models_with_runtime(project))\n",
    "\n",
    "# Sort by execution_time\n",
    "all_runtimes.sort(key=lambda x: x[\"execution_time\"] or 0, reverse=True)  # Handle None values\n",
    "all_runtimes"
   ]
  },
  {
   "cell_type": "code",
   "execution_count": null,
   "metadata": {},
   "outputs": [],
   "source": []
  },
  {
   "cell_type": "code",
   "execution_count": null,
   "metadata": {},
   "outputs": [],
   "source": []
  }
 ],
 "metadata": {
  "kernelspec": {
   "display_name": ".venv",
   "language": "python",
   "name": "python3"
  },
  "language_info": {
   "codemirror_mode": {
    "name": "ipython",
    "version": 3
   },
   "file_extension": ".py",
   "mimetype": "text/x-python",
   "name": "python",
   "nbconvert_exporter": "python",
   "pygments_lexer": "ipython3",
   "version": "3.12.2"
  }
 },
 "nbformat": 4,
 "nbformat_minor": 2
}
