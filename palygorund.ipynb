{
 "cells": [
  {
   "cell_type": "markdown",
   "metadata": {},
   "source": []
  },
  {
   "cell_type": "code",
   "execution_count": 4,
   "metadata": {},
   "outputs": [
    {
     "name": "stdout",
     "output_type": "stream",
     "text": [
      "Fetching account information for account 19751...\n",
      "\n",
      "Account Information:\n",
      "Error: Object of type DbtAccountResponse is not JSON serializable\n"
     ]
    }
   ],
   "source": [
    "#!/usr/bin/env python\n",
    "\n",
    "import os\n",
    "import json\n",
    "\n",
    "from src.service_api.DbtCloudService import DbtCloudService\n",
    "\n",
    "# Load environment variables from .env file\n",
    "\n",
    "\n",
    "\n",
    "# Get token from environment variable or use a default for testing\n",
    "token = os.environ.get(\"DBT_SERVICE_TOKEN\")\n",
    "\n",
    "# Initialize the service\n",
    "service = DbtCloudService(token=token)\n",
    "\n",
    "# Account ID to query\n",
    "account_id = 19751\n",
    "\n",
    "try:\n",
    "    # Get account information\n",
    "    print(f\"Fetching account information for account {account_id}...\")\n",
    "    account_info = service.get_account(account_id=account_id)\n",
    "    \n",
    "    # Pretty print the result\n",
    "    print(\"\\nAccount Information:\")\n",
    "    print(json.dumps(account_info, indent=2))\n",
    "    \n",
    "    # Optionally, try to get jobs as well\n",
    "    print(f\"\\nFetching jobs for account {account_id}...\")\n",
    "    try:\n",
    "        jobs = service.get_jobs(account_id=account_id)\n",
    "        print(jobs)\n",
    "    except Exception as e:\n",
    "        print(f\"Error fetching jobs: {e}\")\n",
    "    \n",
    "except Exception as e:\n",
    "    print(f\"Error: {e}\")\n"
   ]
  },
  {
   "cell_type": "code",
   "execution_count": 2,
   "metadata": {},
   "outputs": [
    {
     "ename": "NameError",
     "evalue": "name 'jobs' is not defined",
     "output_type": "error",
     "traceback": [
      "\u001b[31m---------------------------------------------------------------------------\u001b[39m",
      "\u001b[31mNameError\u001b[39m                                 Traceback (most recent call last)",
      "\u001b[36mCell\u001b[39m\u001b[36m \u001b[39m\u001b[32mIn[2]\u001b[39m\u001b[32m, line 1\u001b[39m\n\u001b[32m----> \u001b[39m\u001b[32m1\u001b[39m \u001b[43mjobs\u001b[49m\n",
      "\u001b[31mNameError\u001b[39m: name 'jobs' is not defined"
     ]
    }
   ],
   "source": [
    "jobs"
   ]
  },
  {
   "cell_type": "code",
   "execution_count": null,
   "metadata": {},
   "outputs": [],
   "source": []
  }
 ],
 "metadata": {
  "kernelspec": {
   "display_name": ".venv",
   "language": "python",
   "name": "python3"
  },
  "language_info": {
   "codemirror_mode": {
    "name": "ipython",
    "version": 3
   },
   "file_extension": ".py",
   "mimetype": "text/x-python",
   "name": "python",
   "nbconvert_exporter": "python",
   "pygments_lexer": "ipython3",
   "version": "3.12.4"
  }
 },
 "nbformat": 4,
 "nbformat_minor": 2
}
