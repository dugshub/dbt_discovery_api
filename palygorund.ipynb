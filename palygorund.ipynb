{
 "cells": [
  {
   "cell_type": "code",
   "execution_count": 1,
   "metadata": {},
   "outputs": [
    {
     "name": "stderr",
     "output_type": "stream",
     "text": [
      "/Users/dug/projects/Official Projects/dbt-tools/dbt_discovery_api/.venv/lib/python3.12/site-packages/pydantic/_internal/_fields.py:192: UserWarning: Field name \"schema\" in \"ModelMetadata\" shadows an attribute in parent \"BaseModel\"\n",
      "  warnings.warn(\n"
     ]
    }
   ],
   "source": [
    "from src.api import DiscoveryAPI, Project, Model\n",
    "\n",
    "import os \n",
    "\n",
    "token = os.getenv(\"DBT_SERVICE_TOKEN\")\n",
    "environment_id = os.getenv(\"ENV_ID_SANDBOX_PRODUCTION\")"
   ]
  },
  {
   "cell_type": "code",
   "execution_count": 2,
   "metadata": {},
   "outputs": [],
   "source": [
    "api = DiscoveryAPI(token=token)\n",
    "project = api.project(environment_id=environment_id)\n",
    "models = project.get_models()"
   ]
  },
  {
   "cell_type": "code",
   "execution_count": 13,
   "metadata": {},
   "outputs": [],
   "source": [
    "runtimes = project.get_historical_models_runtimes(slowest=True)\n",
    "runtimes = [runtime.execution_info for runtime in runtimes]"
   ]
  },
  {
   "cell_type": "code",
   "execution_count": null,
   "metadata": {},
   "outputs": [],
   "source": []
  },
  {
   "cell_type": "code",
   "execution_count": 15,
   "metadata": {},
   "outputs": [
    {
     "data": {
      "text/plain": [
       "{'last_run_id': 374378828,\n",
       " 'last_run_status': 'success',\n",
       " 'last_success_job_definition_id': 760646,\n",
       " 'last_success_run_id': 374378828,\n",
       " 'run_generated_at': '2025-03-04T10:39:05.068Z',\n",
       " 'run_elapsed_time': 5920.149493932724,\n",
       " 'execute_completed_at': '2025-03-04T10:39:04.056Z',\n",
       " 'execute_started_at': '2025-03-04T09:43:43.978Z',\n",
       " 'compile_started_at': '2025-03-04T09:43:43.975Z',\n",
       " 'compile_completed_at': '2025-03-04T09:43:43.977Z',\n",
       " 'execution_time': 3320.215383529663,\n",
       " 'last_run_error': None}"
      ]
     },
     "execution_count": 15,
     "metadata": {},
     "output_type": "execute_result"
    }
   ],
   "source": [
    "runtimes[0]"
   ]
  },
  {
   "cell_type": "markdown",
   "metadata": {},
   "source": []
  }
 ],
 "metadata": {
  "kernelspec": {
   "display_name": ".venv",
   "language": "python",
   "name": "python3"
  },
  "language_info": {
   "codemirror_mode": {
    "name": "ipython",
    "version": 3
   },
   "file_extension": ".py",
   "mimetype": "text/x-python",
   "name": "python",
   "nbconvert_exporter": "python",
   "pygments_lexer": "ipython3",
   "version": "3.12.4"
  }
 },
 "nbformat": 4,
 "nbformat_minor": 2
}
