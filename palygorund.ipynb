{
 "cells": [
  {
   "cell_type": "code",
   "execution_count": 1,
   "metadata": {},
   "outputs": [
    {
     "name": "stderr",
     "output_type": "stream",
     "text": [
      "/Users/dug/projects/Official Projects/dbt-tools/dbt_discovery_api/.venv/lib/python3.12/site-packages/pydantic/_internal/_fields.py:192: UserWarning: Field name \"schema\" in \"ModelMetadata\" shadows an attribute in parent \"BaseModel\"\n",
      "  warnings.warn(\n"
     ]
    }
   ],
   "source": [
    "from src.api import DiscoveryAPI\n",
    "\n",
    "import os \n",
    "\n",
    "token = os.getenv(\"DBT_SERVICE_TOKEN\")\n",
    "environment_id = os.getenv(\"ENV_ID_SANDBOX_PRODUCTION\")"
   ]
  },
  {
   "cell_type": "code",
   "execution_count": 2,
   "metadata": {},
   "outputs": [],
   "source": [
    "api = DiscoveryAPI(token=token)\n",
    "project = api.project(environment_id=environment_id, return_query=True)\n",
    "models = project.get_models()"
   ]
  },
  {
   "cell_type": "code",
   "execution_count": 3,
   "metadata": {},
   "outputs": [],
   "source": [
    "runtimes = project.get_historical_models_runtimes(slowest=True)\n"
   ]
  },
  {
   "cell_type": "code",
   "execution_count": 4,
   "metadata": {},
   "outputs": [
    {
     "data": {
      "text/plain": [
       "[ModelRuntimeMetrics(most_recent_run=RunStatus(status='success', run_id=None, run_time=datetime.datetime(2025, 3, 4, 10, 39, 5, 68000, tzinfo=TzInfo(UTC)), execution_time=3320.215383529663, error_message=None), execution_info={'last_run_id': 374378828, 'last_run_status': 'success', 'last_success_job_definition_id': 760646, 'last_success_run_id': 374378828, 'run_generated_at': '2025-03-04T10:39:05.068Z', 'run_elapsed_time': 5920.149493932724, 'execute_completed_at': '2025-03-04T10:39:04.056Z', 'execute_started_at': '2025-03-04T09:43:43.978Z', 'compile_started_at': '2025-03-04T09:43:43.975Z', 'compile_completed_at': '2025-03-04T09:43:43.977Z', 'execution_time': 3320.215383529663, 'last_run_error': None}),\n",
       " ModelRuntimeMetrics(most_recent_run=RunStatus(status='success', run_id=None, run_time=datetime.datetime(2025, 3, 3, 23, 41, 35, 296000, tzinfo=TzInfo(UTC)), execution_time=1249.8186647892, error_message=None), execution_info={'last_run_id': 374250820, 'last_run_status': 'success', 'last_success_job_definition_id': 635484, 'last_success_run_id': 374250820, 'run_generated_at': '2025-03-03T23:41:35.296Z', 'run_elapsed_time': 5267.757391214371, 'execute_completed_at': '2025-03-03T22:38:45.700Z', 'execute_started_at': '2025-03-03T22:17:56.009Z', 'compile_started_at': '2025-03-03T22:17:56.004Z', 'compile_completed_at': '2025-03-03T22:17:56.009Z', 'execution_time': 1249.8186647892, 'last_run_error': None}),\n",
       " ModelRuntimeMetrics(most_recent_run=RunStatus(status='success', run_id=None, run_time=datetime.datetime(2025, 3, 3, 23, 41, 35, 296000, tzinfo=TzInfo(UTC)), execution_time=1136.391306638718, error_message=None), execution_info={'last_run_id': 374250820, 'last_run_status': 'success', 'last_success_job_definition_id': 635484, 'last_success_run_id': 374250820, 'run_generated_at': '2025-03-03T23:41:35.296Z', 'run_elapsed_time': 5267.757391214371, 'execute_completed_at': '2025-03-03T23:11:15.209Z', 'execute_started_at': '2025-03-03T22:52:18.963Z', 'compile_started_at': '2025-03-03T22:52:18.949Z', 'compile_completed_at': '2025-03-03T22:52:18.962Z', 'execution_time': 1136.391306638718, 'last_run_error': None}),\n",
       " ModelRuntimeMetrics(most_recent_run=RunStatus(status='skipped', run_id=None, run_time=datetime.datetime(2025, 3, 3, 20, 30, 2, 411000, tzinfo=TzInfo(UTC)), execution_time=0.0, error_message=None), execution_info={'last_run_id': 374378828, 'last_run_status': 'success', 'last_success_job_definition_id': 760646, 'last_success_run_id': 374378828, 'run_generated_at': '2025-03-04T10:39:05.068Z', 'run_elapsed_time': 5920.149493932724, 'execute_completed_at': '2025-03-04T10:04:39.466Z', 'execute_started_at': '2025-03-04T09:46:13.030Z', 'compile_started_at': '2025-03-04T09:46:13.027Z', 'compile_completed_at': '2025-03-04T09:46:13.029Z', 'execution_time': 1106.574650764465, 'last_run_error': None}),\n",
       " ModelRuntimeMetrics(most_recent_run=RunStatus(status='success', run_id=None, run_time=datetime.datetime(2025, 3, 4, 10, 39, 5, 68000, tzinfo=TzInfo(UTC)), execution_time=1049.577287197113, error_message=None), execution_info={'last_run_id': 374378828, 'last_run_status': 'success', 'last_success_job_definition_id': 760646, 'last_success_run_id': 374378828, 'run_generated_at': '2025-03-04T10:39:05.068Z', 'run_elapsed_time': 5920.149493932724, 'execute_completed_at': '2025-03-04T09:30:56.363Z', 'execute_started_at': '2025-03-04T09:13:26.929Z', 'compile_started_at': '2025-03-04T09:13:26.922Z', 'compile_completed_at': '2025-03-04T09:13:26.928Z', 'execution_time': 1049.577287197113, 'last_run_error': None}),\n",
       " ModelRuntimeMetrics(most_recent_run=RunStatus(status='success', run_id=None, run_time=datetime.datetime(2025, 3, 4, 10, 39, 5, 68000, tzinfo=TzInfo(UTC)), execution_time=895.9094843864441, error_message=None), execution_info={'last_run_id': 374378828, 'last_run_status': 'success', 'last_success_job_definition_id': 760646, 'last_success_run_id': 374378828, 'run_generated_at': '2025-03-04T10:39:05.068Z', 'run_elapsed_time': 5920.149493932724, 'execute_completed_at': '2025-03-04T09:31:04.498Z', 'execute_started_at': '2025-03-04T09:16:08.727Z', 'compile_started_at': '2025-03-04T09:16:08.722Z', 'compile_completed_at': '2025-03-04T09:16:08.726Z', 'execution_time': 895.9094843864441, 'last_run_error': None}),\n",
       " ModelRuntimeMetrics(most_recent_run=RunStatus(status='success', run_id=None, run_time=datetime.datetime(2025, 3, 4, 10, 39, 5, 68000, tzinfo=TzInfo(UTC)), execution_time=877.3268537521362, error_message=None), execution_info={'last_run_id': 374378828, 'last_run_status': 'success', 'last_success_job_definition_id': 760646, 'last_success_run_id': 374378828, 'run_generated_at': '2025-03-04T10:39:05.068Z', 'run_elapsed_time': 5920.149493932724, 'execute_completed_at': '2025-03-04T09:30:53.479Z', 'execute_started_at': '2025-03-04T09:16:16.287Z', 'compile_started_at': '2025-03-04T09:16:16.284Z', 'compile_completed_at': '2025-03-04T09:16:16.286Z', 'execution_time': 877.3268537521362, 'last_run_error': None}),\n",
       " ModelRuntimeMetrics(most_recent_run=RunStatus(status='success', run_id=None, run_time=datetime.datetime(2025, 3, 4, 10, 39, 5, 68000, tzinfo=TzInfo(UTC)), execution_time=655.3733503818512, error_message=None), execution_info={'last_run_id': 374378828, 'last_run_status': 'success', 'last_success_job_definition_id': 760646, 'last_success_run_id': 374378828, 'run_generated_at': '2025-03-04T10:39:05.068Z', 'run_elapsed_time': 5920.149493932724, 'execute_completed_at': '2025-03-04T09:43:46.097Z', 'execute_started_at': '2025-03-04T09:32:50.854Z', 'compile_started_at': '2025-03-04T09:32:50.850Z', 'compile_completed_at': '2025-03-04T09:32:50.853Z', 'execution_time': 655.3733503818512, 'last_run_error': None}),\n",
       " ModelRuntimeMetrics(most_recent_run=RunStatus(status='success', run_id=None, run_time=datetime.datetime(2025, 3, 4, 10, 39, 5, 68000, tzinfo=TzInfo(UTC)), execution_time=606.3208692073822, error_message=None), execution_info={'last_run_id': 374378828, 'last_run_status': 'success', 'last_success_job_definition_id': 760646, 'last_success_run_id': 374378828, 'run_generated_at': '2025-03-04T10:39:05.068Z', 'run_elapsed_time': 5920.149493932724, 'execute_completed_at': '2025-03-04T09:43:38.099Z', 'execute_started_at': '2025-03-04T09:33:33.777Z', 'compile_started_at': '2025-03-04T09:33:33.774Z', 'compile_completed_at': '2025-03-04T09:33:33.777Z', 'execution_time': 606.3208692073822, 'last_run_error': None}),\n",
       " ModelRuntimeMetrics(most_recent_run=RunStatus(status='success', run_id=None, run_time=datetime.datetime(2025, 3, 4, 10, 39, 5, 68000, tzinfo=TzInfo(UTC)), execution_time=508.1963591575623, error_message=None), execution_info={'last_run_id': 374378828, 'last_run_status': 'success', 'last_success_job_definition_id': 760646, 'last_success_run_id': 374378828, 'run_generated_at': '2025-03-04T10:39:05.068Z', 'run_elapsed_time': 5920.149493932724, 'execute_completed_at': '2025-03-04T09:24:41.335Z', 'execute_started_at': '2025-03-04T09:16:13.276Z', 'compile_started_at': '2025-03-04T09:16:13.271Z', 'compile_completed_at': '2025-03-04T09:16:13.275Z', 'execution_time': 508.1963591575623, 'last_run_error': None})]"
      ]
     },
     "execution_count": 4,
     "metadata": {},
     "output_type": "execute_result"
    }
   ],
   "source": [
    "runtimes"
   ]
  },
  {
   "cell_type": "code",
   "execution_count": 5,
   "metadata": {},
   "outputs": [
    {
     "data": {
      "text/plain": [
       "[ModelRuntimeMetrics(most_recent_run=RunStatus(status='success', run_id=None, run_time=datetime.datetime(2025, 3, 4, 10, 39, 5, 68000, tzinfo=TzInfo(UTC)), execution_time=3320.215383529663, error_message=None), execution_info={'last_run_id': 374378828, 'last_run_status': 'success', 'last_success_job_definition_id': 760646, 'last_success_run_id': 374378828, 'run_generated_at': '2025-03-04T10:39:05.068Z', 'run_elapsed_time': 5920.149493932724, 'execute_completed_at': '2025-03-04T10:39:04.056Z', 'execute_started_at': '2025-03-04T09:43:43.978Z', 'compile_started_at': '2025-03-04T09:43:43.975Z', 'compile_completed_at': '2025-03-04T09:43:43.977Z', 'execution_time': 3320.215383529663, 'last_run_error': None}),\n",
       " ModelRuntimeMetrics(most_recent_run=RunStatus(status='success', run_id=None, run_time=datetime.datetime(2025, 3, 3, 23, 41, 35, 296000, tzinfo=TzInfo(UTC)), execution_time=1249.8186647892, error_message=None), execution_info={'last_run_id': 374250820, 'last_run_status': 'success', 'last_success_job_definition_id': 635484, 'last_success_run_id': 374250820, 'run_generated_at': '2025-03-03T23:41:35.296Z', 'run_elapsed_time': 5267.757391214371, 'execute_completed_at': '2025-03-03T22:38:45.700Z', 'execute_started_at': '2025-03-03T22:17:56.009Z', 'compile_started_at': '2025-03-03T22:17:56.004Z', 'compile_completed_at': '2025-03-03T22:17:56.009Z', 'execution_time': 1249.8186647892, 'last_run_error': None}),\n",
       " ModelRuntimeMetrics(most_recent_run=RunStatus(status='success', run_id=None, run_time=datetime.datetime(2025, 3, 3, 23, 41, 35, 296000, tzinfo=TzInfo(UTC)), execution_time=1136.391306638718, error_message=None), execution_info={'last_run_id': 374250820, 'last_run_status': 'success', 'last_success_job_definition_id': 635484, 'last_success_run_id': 374250820, 'run_generated_at': '2025-03-03T23:41:35.296Z', 'run_elapsed_time': 5267.757391214371, 'execute_completed_at': '2025-03-03T23:11:15.209Z', 'execute_started_at': '2025-03-03T22:52:18.963Z', 'compile_started_at': '2025-03-03T22:52:18.949Z', 'compile_completed_at': '2025-03-03T22:52:18.962Z', 'execution_time': 1136.391306638718, 'last_run_error': None}),\n",
       " ModelRuntimeMetrics(most_recent_run=RunStatus(status='skipped', run_id=None, run_time=datetime.datetime(2025, 3, 3, 20, 30, 2, 411000, tzinfo=TzInfo(UTC)), execution_time=0.0, error_message=None), execution_info={'last_run_id': 374378828, 'last_run_status': 'success', 'last_success_job_definition_id': 760646, 'last_success_run_id': 374378828, 'run_generated_at': '2025-03-04T10:39:05.068Z', 'run_elapsed_time': 5920.149493932724, 'execute_completed_at': '2025-03-04T10:04:39.466Z', 'execute_started_at': '2025-03-04T09:46:13.030Z', 'compile_started_at': '2025-03-04T09:46:13.027Z', 'compile_completed_at': '2025-03-04T09:46:13.029Z', 'execution_time': 1106.574650764465, 'last_run_error': None}),\n",
       " ModelRuntimeMetrics(most_recent_run=RunStatus(status='success', run_id=None, run_time=datetime.datetime(2025, 3, 4, 10, 39, 5, 68000, tzinfo=TzInfo(UTC)), execution_time=1049.577287197113, error_message=None), execution_info={'last_run_id': 374378828, 'last_run_status': 'success', 'last_success_job_definition_id': 760646, 'last_success_run_id': 374378828, 'run_generated_at': '2025-03-04T10:39:05.068Z', 'run_elapsed_time': 5920.149493932724, 'execute_completed_at': '2025-03-04T09:30:56.363Z', 'execute_started_at': '2025-03-04T09:13:26.929Z', 'compile_started_at': '2025-03-04T09:13:26.922Z', 'compile_completed_at': '2025-03-04T09:13:26.928Z', 'execution_time': 1049.577287197113, 'last_run_error': None}),\n",
       " ModelRuntimeMetrics(most_recent_run=RunStatus(status='success', run_id=None, run_time=datetime.datetime(2025, 3, 4, 10, 39, 5, 68000, tzinfo=TzInfo(UTC)), execution_time=895.9094843864441, error_message=None), execution_info={'last_run_id': 374378828, 'last_run_status': 'success', 'last_success_job_definition_id': 760646, 'last_success_run_id': 374378828, 'run_generated_at': '2025-03-04T10:39:05.068Z', 'run_elapsed_time': 5920.149493932724, 'execute_completed_at': '2025-03-04T09:31:04.498Z', 'execute_started_at': '2025-03-04T09:16:08.727Z', 'compile_started_at': '2025-03-04T09:16:08.722Z', 'compile_completed_at': '2025-03-04T09:16:08.726Z', 'execution_time': 895.9094843864441, 'last_run_error': None}),\n",
       " ModelRuntimeMetrics(most_recent_run=RunStatus(status='success', run_id=None, run_time=datetime.datetime(2025, 3, 4, 10, 39, 5, 68000, tzinfo=TzInfo(UTC)), execution_time=877.3268537521362, error_message=None), execution_info={'last_run_id': 374378828, 'last_run_status': 'success', 'last_success_job_definition_id': 760646, 'last_success_run_id': 374378828, 'run_generated_at': '2025-03-04T10:39:05.068Z', 'run_elapsed_time': 5920.149493932724, 'execute_completed_at': '2025-03-04T09:30:53.479Z', 'execute_started_at': '2025-03-04T09:16:16.287Z', 'compile_started_at': '2025-03-04T09:16:16.284Z', 'compile_completed_at': '2025-03-04T09:16:16.286Z', 'execution_time': 877.3268537521362, 'last_run_error': None}),\n",
       " ModelRuntimeMetrics(most_recent_run=RunStatus(status='success', run_id=None, run_time=datetime.datetime(2025, 3, 4, 10, 39, 5, 68000, tzinfo=TzInfo(UTC)), execution_time=655.3733503818512, error_message=None), execution_info={'last_run_id': 374378828, 'last_run_status': 'success', 'last_success_job_definition_id': 760646, 'last_success_run_id': 374378828, 'run_generated_at': '2025-03-04T10:39:05.068Z', 'run_elapsed_time': 5920.149493932724, 'execute_completed_at': '2025-03-04T09:43:46.097Z', 'execute_started_at': '2025-03-04T09:32:50.854Z', 'compile_started_at': '2025-03-04T09:32:50.850Z', 'compile_completed_at': '2025-03-04T09:32:50.853Z', 'execution_time': 655.3733503818512, 'last_run_error': None}),\n",
       " ModelRuntimeMetrics(most_recent_run=RunStatus(status='success', run_id=None, run_time=datetime.datetime(2025, 3, 4, 10, 39, 5, 68000, tzinfo=TzInfo(UTC)), execution_time=606.3208692073822, error_message=None), execution_info={'last_run_id': 374378828, 'last_run_status': 'success', 'last_success_job_definition_id': 760646, 'last_success_run_id': 374378828, 'run_generated_at': '2025-03-04T10:39:05.068Z', 'run_elapsed_time': 5920.149493932724, 'execute_completed_at': '2025-03-04T09:43:38.099Z', 'execute_started_at': '2025-03-04T09:33:33.777Z', 'compile_started_at': '2025-03-04T09:33:33.774Z', 'compile_completed_at': '2025-03-04T09:33:33.777Z', 'execution_time': 606.3208692073822, 'last_run_error': None}),\n",
       " ModelRuntimeMetrics(most_recent_run=RunStatus(status='success', run_id=None, run_time=datetime.datetime(2025, 3, 4, 10, 39, 5, 68000, tzinfo=TzInfo(UTC)), execution_time=508.1963591575623, error_message=None), execution_info={'last_run_id': 374378828, 'last_run_status': 'success', 'last_success_job_definition_id': 760646, 'last_success_run_id': 374378828, 'run_generated_at': '2025-03-04T10:39:05.068Z', 'run_elapsed_time': 5920.149493932724, 'execute_completed_at': '2025-03-04T09:24:41.335Z', 'execute_started_at': '2025-03-04T09:16:13.276Z', 'compile_started_at': '2025-03-04T09:16:13.271Z', 'compile_completed_at': '2025-03-04T09:16:13.275Z', 'execution_time': 508.1963591575623, 'last_run_error': None})]"
      ]
     },
     "execution_count": 5,
     "metadata": {},
     "output_type": "execute_result"
    }
   ],
   "source": [
    "runtimes"
   ]
  },
  {
   "cell_type": "markdown",
   "metadata": {},
   "source": []
  }
 ],
 "metadata": {
  "kernelspec": {
   "display_name": ".venv",
   "language": "python",
   "name": "python3"
  },
  "language_info": {
   "codemirror_mode": {
    "name": "ipython",
    "version": 3
   },
   "file_extension": ".py",
   "mimetype": "text/x-python",
   "name": "python",
   "nbconvert_exporter": "python",
   "pygments_lexer": "ipython3",
   "version": "3.12.4"
  }
 },
 "nbformat": 4,
 "nbformat_minor": 2
}
