{
 "cells": [
  {
   "cell_type": "code",
   "execution_count": 1,
   "metadata": {},
   "outputs": [
    {
     "name": "stderr",
     "output_type": "stream",
     "text": [
      "/Users/dug/projects/Official Projects/dbt-tools/dbt_discovery_api/.venv/lib/python3.12/site-packages/pydantic/_internal/_config.py:345: UserWarning: Valid config keys have changed in V2:\n",
      "* 'orm_mode' has been renamed to 'from_attributes'\n",
      "  warnings.warn(message, UserWarning)\n",
      "/Users/dug/projects/Official Projects/dbt-tools/dbt_discovery_api/.venv/lib/python3.12/site-packages/pydantic/_internal/_fields.py:192: UserWarning: Field name \"schema\" in \"ModelMetadata\" shadows an attribute in parent \"BaseModel\"\n",
      "  warnings.warn(\n"
     ]
    }
   ],
   "source": [
    "\n",
    "import os\n",
    "# Get environment and job IDs from environment variables\n",
    "sandbox_environment_id = int(os.environ.get('ENV_ID_SANDBOX_PRODUCTION'))\n",
    "mart_environment_id = int(os.environ.get('ENV_ID_MART_PRODUCTION'))\n",
    "from src.api import DiscoveryAPI\n",
    "\n",
    "# Initialize the API with your DBT Cloud token\n",
    "api = DiscoveryAPI(token=os.getenv(\"DBT_SERVICE_TOKEN\"))\n"
   ]
  },
  {
   "cell_type": "code",
   "execution_count": 1,
   "metadata": {},
   "outputs": [
    {
     "ename": "NameError",
     "evalue": "name 'DiscoveryAPI' is not defined",
     "output_type": "error",
     "traceback": [
      "\u001b[31m---------------------------------------------------------------------------\u001b[39m",
      "\u001b[31mNameError\u001b[39m                                 Traceback (most recent call last)",
      "\u001b[36mCell\u001b[39m\u001b[36m \u001b[39m\u001b[32mIn[1]\u001b[39m\u001b[32m, line 2\u001b[39m\n\u001b[32m      1\u001b[39m \u001b[38;5;66;03m# Initialize API\u001b[39;00m\n\u001b[32m----> \u001b[39m\u001b[32m2\u001b[39m api = \u001b[43mDiscoveryAPI\u001b[49m(os.environ[\u001b[33m\"\u001b[39m\u001b[33mDBT_SERVICE_TOKEN\u001b[39m\u001b[33m\"\u001b[39m])\n",
      "\u001b[31mNameError\u001b[39m: name 'DiscoveryAPI' is not defined"
     ]
    }
   ],
   "source": [
    "# Initialize API\n",
    "api = DiscoveryAPI(os.environ[\"DBT_SERVICE_TOKEN\"])\n"
   ]
  },
  {
   "cell_type": "code",
   "execution_count": null,
   "metadata": {},
   "outputs": [],
   "source": []
  }
 ],
 "metadata": {
  "kernelspec": {
   "display_name": ".venv",
   "language": "python",
   "name": "python3"
  },
  "language_info": {
   "codemirror_mode": {
    "name": "ipython",
    "version": 3
   },
   "file_extension": ".py",
   "mimetype": "text/x-python",
   "name": "python",
   "nbconvert_exporter": "python",
   "pygments_lexer": "ipython3",
   "version": "3.12.4"
  }
 },
 "nbformat": 4,
 "nbformat_minor": 2
}
